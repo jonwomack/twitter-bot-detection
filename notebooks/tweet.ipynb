{
  "nbformat": 4,
  "nbformat_minor": 0,
  "metadata": {
    "colab": {
      "provenance": []
    },
    "kernelspec": {
      "name": "python3",
      "display_name": "Python 3"
    },
    "language_info": {
      "name": "python"
    },
    "gpuClass": "standard"
  },
  "cells": [
    {
      "cell_type": "markdown",
      "source": [
        "# Using Tweet Language for Twitter Bot Detection"
      ],
      "metadata": {
        "id": "D-5epjeUYbUG"
      }
    },
    {
      "cell_type": "markdown",
      "source": [
        "Inspired by Wei and Nguyen's 2019 paper [Twitter Bot Detection Using Bidirectional Long Short-term Memory Neural Networks and Word Embeddings](https://drive.google.com/file/d/1rlasxgfruK8KmvaQB9ekTRJYeD3zOnL9/view?usp=share_link)"
      ],
      "metadata": {
        "id": "zfskbwYDY98n"
      }
    },
    {
      "cell_type": "markdown",
      "source": [
        "## Configuration\n",
        "\n",
        "Authorize Google Drive to load in dataset"
      ],
      "metadata": {
        "id": "_AFVbrEyXanL"
      }
    },
    {
      "cell_type": "code",
      "source": [
        "from google.colab import auth\n",
        "auth.authenticate_user()\n",
        "project_id = 'cse6242-381122'\n",
        "!gcloud config set project {project_id}\n",
        "!gsutil ls"
      ],
      "metadata": {
        "colab": {
          "base_uri": "https://localhost:8080/"
        },
        "id": "NiBe_r-ehMRb",
        "outputId": "163f9265-91eb-49e7-f298-5a474c21cc26"
      },
      "execution_count": 1,
      "outputs": [
        {
          "output_type": "stream",
          "name": "stdout",
          "text": [
            "Updated property [core/project].\n",
            "gs://emp-1867/\n",
            "gs://hmlaidsn/\n"
          ]
        }
      ]
    },
    {
      "cell_type": "code",
      "source": [
        "bucket_id = 'emp-1867'\n",
        "!gsutil cp gs://{bucket_id}/TwiBot-20_sample.json gs://{bucket_id}/label.csv gs://{bucket_id}/glove.twitter.27B/glove.twitter.27B.25d.txt ."
      ],
      "metadata": {
        "colab": {
          "base_uri": "https://localhost:8080/"
        },
        "id": "P7HHKlvYh_dT",
        "outputId": "abea748b-9db9-499f-a01f-071da63f6fa1"
      },
      "execution_count": 2,
      "outputs": [
        {
          "output_type": "stream",
          "name": "stdout",
          "text": [
            "Copying gs://emp-1867/TwiBot-20_sample.json...\n",
            "Copying gs://emp-1867/label.csv...\n",
            "Copying gs://emp-1867/glove.twitter.27B/glove.twitter.27B.25d.txt...\n",
            "==> NOTE: You are downloading one or more large file(s), which would\n",
            "run significantly faster if you enabled sliced object downloads. This\n",
            "feature is enabled by default but requires that compiled crcmod be\n",
            "installed (see \"gsutil help crcmod\").\n",
            "\n",
            "- [3 files][249.0 MiB/249.0 MiB]   18.8 MiB/s                                   \n",
            "Operation completed over 3 objects/249.0 MiB.                                    \n"
          ]
        }
      ]
    },
    {
      "cell_type": "markdown",
      "source": [
        "## Set-Up"
      ],
      "metadata": {
        "id": "SsDmbTnMYUeh"
      }
    },
    {
      "cell_type": "markdown",
      "source": [
        "### Import"
      ],
      "metadata": {
        "id": "jLrWp3E0YV2J"
      }
    },
    {
      "cell_type": "code",
      "source": [
        "import re\n",
        "import string\n",
        "from collections import OrderedDict\n",
        "\n",
        "import pandas as pd\n",
        "import numpy as np\n",
        "\n",
        "from sklearn.model_selection import train_test_split\n",
        "\n",
        "import torch\n",
        "from torch import nn\n",
        "import torch.nn.functional as F\n",
        "import torch.optim as optim\n",
        "\n",
        "from torch.utils.data import Dataset, DataLoader\n",
        "from torchtext.data.utils import get_tokenizer\n",
        "from torchtext.vocab import GloVe, vocab"
      ],
      "metadata": {
        "id": "7y3DHQnyYT0j"
      },
      "execution_count": 60,
      "outputs": []
    },
    {
      "cell_type": "code",
      "source": [
        "if torch.cuda.is_available():\n",
        "  device = torch.device(\"cuda\")\n",
        "  torch.cuda.get_device_name(0)\n",
        "else:\n",
        "  device = torch.device(\"cpu\")"
      ],
      "metadata": {
        "id": "AhIchG7ENISS"
      },
      "execution_count": 5,
      "outputs": []
    },
    {
      "cell_type": "markdown",
      "source": [
        "### Data"
      ],
      "metadata": {
        "id": "XCO6-4SLZfv1"
      }
    },
    {
      "cell_type": "markdown",
      "source": [
        "Load sample dataset found from [Feng](https://github.com/BunsenFeng/TwiBot-20) in json format to Pandas dataframe"
      ],
      "metadata": {
        "id": "3gq7A0qcaif4"
      }
    },
    {
      "cell_type": "code",
      "source": [
        "dataset = pd.read_json('./TwiBot-20_sample.json')\n",
        "dataset"
      ],
      "metadata": {
        "id": "LjQZqE4HahJK",
        "colab": {
          "base_uri": "https://localhost:8080/",
          "height": 641
        },
        "outputId": "3e85db42-c08e-4e8a-c5f4-a470d42a1720"
      },
      "execution_count": 6,
      "outputs": [
        {
          "output_type": "execute_result",
          "data": {
            "text/plain": [
              "                     ID                                            profile  \\\n",
              "0              17461978  {'id': '17461978 ', 'id_str': '17461978 ', 'na...   \n",
              "1   1297437077403885568  {'id': '1297437077403885568 ', 'id_str': '1297...   \n",
              "2              17685258  {'id': '17685258 ', 'id_str': '17685258 ', 'na...   \n",
              "3              15750898  {'id': '15750898 ', 'id_str': '15750898 ', 'na...   \n",
              "4            1659167666  {'id': '1659167666 ', 'id_str': '1659167666 ',...   \n",
              "..                  ...                                                ...   \n",
              "95   843514885644271616  {'id': '843514885644271616 ', 'id_str': '84351...   \n",
              "96             24578794  {'id': '24578794 ', 'id_str': '24578794 ', 'na...   \n",
              "97             39349894  {'id': '39349894 ', 'id_str': '39349894 ', 'na...   \n",
              "98             48223726  {'id': '48223726 ', 'id_str': '48223726 ', 'na...   \n",
              "99             56321478  {'id': '56321478 ', 'id_str': '56321478 ', 'na...   \n",
              "\n",
              "                                                tweet  \\\n",
              "0   [RT @CarnivalCruise: 🎉 Are you ready to see wh...   \n",
              "1                                                None   \n",
              "2   [RT @realDonaldTrump: THANK YOU #RNC2020! http...   \n",
              "3   [A family fears they may have been cheated out...   \n",
              "4   [RT @VonteThePlug: Yeah but he ain’t got one h...   \n",
              "..                                                ...   \n",
              "95  [@doriandetails https://t.co/iiW9NlqTmZ\\n, @us...   \n",
              "96  [The Vichy Republicans were embarrassing last ...   \n",
              "97  [Without any basis, the NYAG has pledged to ta...   \n",
              "98  [Take a moment to soak it all in with one of o...   \n",
              "99  [@CSBence @RepRiggleman See there you go again...   \n",
              "\n",
              "                                             neighbor  \\\n",
              "0                                                None   \n",
              "1   {'following': ['170861207', '23970102', '47293...   \n",
              "2   {'following': ['46464108', '21536398', '186434...   \n",
              "3   {'following': ['2324715174', '24030137', '2336...   \n",
              "4   {'following': ['1628313708', '726405625', '130...   \n",
              "..                                                ...   \n",
              "95  {'following': ['1263585754665504770', '1288883...   \n",
              "96  {'following': ['2361631088', '60190930', '1451...   \n",
              "97  {'following': ['17454769', '17074440', '581999...   \n",
              "98  {'following': ['18462058', '14957318', '145879...   \n",
              "99  {'following': ['743560108509007872', '85498982...   \n",
              "\n",
              "                                          domain  \n",
              "0           [Politics, Bussiness, Entertainment]  \n",
              "1                                     [Politics]  \n",
              "2              [Politics, Entertainment, Sports]  \n",
              "3                                     [Politics]  \n",
              "4                                     [Politics]  \n",
              "..                                           ...  \n",
              "95                                    [Politics]  \n",
              "96             [Politics, Entertainment, Sports]  \n",
              "97  [Politics, Bussiness, Entertainment, Sports]  \n",
              "98                                    [Politics]  \n",
              "99                                    [Politics]  \n",
              "\n",
              "[100 rows x 5 columns]"
            ],
            "text/html": [
              "\n",
              "  <div id=\"df-023e32e3-6c93-4fd0-9432-f6bb7d6acd8d\">\n",
              "    <div class=\"colab-df-container\">\n",
              "      <div>\n",
              "<style scoped>\n",
              "    .dataframe tbody tr th:only-of-type {\n",
              "        vertical-align: middle;\n",
              "    }\n",
              "\n",
              "    .dataframe tbody tr th {\n",
              "        vertical-align: top;\n",
              "    }\n",
              "\n",
              "    .dataframe thead th {\n",
              "        text-align: right;\n",
              "    }\n",
              "</style>\n",
              "<table border=\"1\" class=\"dataframe\">\n",
              "  <thead>\n",
              "    <tr style=\"text-align: right;\">\n",
              "      <th></th>\n",
              "      <th>ID</th>\n",
              "      <th>profile</th>\n",
              "      <th>tweet</th>\n",
              "      <th>neighbor</th>\n",
              "      <th>domain</th>\n",
              "    </tr>\n",
              "  </thead>\n",
              "  <tbody>\n",
              "    <tr>\n",
              "      <th>0</th>\n",
              "      <td>17461978</td>\n",
              "      <td>{'id': '17461978 ', 'id_str': '17461978 ', 'na...</td>\n",
              "      <td>[RT @CarnivalCruise: 🎉 Are you ready to see wh...</td>\n",
              "      <td>None</td>\n",
              "      <td>[Politics, Bussiness, Entertainment]</td>\n",
              "    </tr>\n",
              "    <tr>\n",
              "      <th>1</th>\n",
              "      <td>1297437077403885568</td>\n",
              "      <td>{'id': '1297437077403885568 ', 'id_str': '1297...</td>\n",
              "      <td>None</td>\n",
              "      <td>{'following': ['170861207', '23970102', '47293...</td>\n",
              "      <td>[Politics]</td>\n",
              "    </tr>\n",
              "    <tr>\n",
              "      <th>2</th>\n",
              "      <td>17685258</td>\n",
              "      <td>{'id': '17685258 ', 'id_str': '17685258 ', 'na...</td>\n",
              "      <td>[RT @realDonaldTrump: THANK YOU #RNC2020! http...</td>\n",
              "      <td>{'following': ['46464108', '21536398', '186434...</td>\n",
              "      <td>[Politics, Entertainment, Sports]</td>\n",
              "    </tr>\n",
              "    <tr>\n",
              "      <th>3</th>\n",
              "      <td>15750898</td>\n",
              "      <td>{'id': '15750898 ', 'id_str': '15750898 ', 'na...</td>\n",
              "      <td>[A family fears they may have been cheated out...</td>\n",
              "      <td>{'following': ['2324715174', '24030137', '2336...</td>\n",
              "      <td>[Politics]</td>\n",
              "    </tr>\n",
              "    <tr>\n",
              "      <th>4</th>\n",
              "      <td>1659167666</td>\n",
              "      <td>{'id': '1659167666 ', 'id_str': '1659167666 ',...</td>\n",
              "      <td>[RT @VonteThePlug: Yeah but he ain’t got one h...</td>\n",
              "      <td>{'following': ['1628313708', '726405625', '130...</td>\n",
              "      <td>[Politics]</td>\n",
              "    </tr>\n",
              "    <tr>\n",
              "      <th>...</th>\n",
              "      <td>...</td>\n",
              "      <td>...</td>\n",
              "      <td>...</td>\n",
              "      <td>...</td>\n",
              "      <td>...</td>\n",
              "    </tr>\n",
              "    <tr>\n",
              "      <th>95</th>\n",
              "      <td>843514885644271616</td>\n",
              "      <td>{'id': '843514885644271616 ', 'id_str': '84351...</td>\n",
              "      <td>[@doriandetails https://t.co/iiW9NlqTmZ\\n, @us...</td>\n",
              "      <td>{'following': ['1263585754665504770', '1288883...</td>\n",
              "      <td>[Politics]</td>\n",
              "    </tr>\n",
              "    <tr>\n",
              "      <th>96</th>\n",
              "      <td>24578794</td>\n",
              "      <td>{'id': '24578794 ', 'id_str': '24578794 ', 'na...</td>\n",
              "      <td>[The Vichy Republicans were embarrassing last ...</td>\n",
              "      <td>{'following': ['2361631088', '60190930', '1451...</td>\n",
              "      <td>[Politics, Entertainment, Sports]</td>\n",
              "    </tr>\n",
              "    <tr>\n",
              "      <th>97</th>\n",
              "      <td>39349894</td>\n",
              "      <td>{'id': '39349894 ', 'id_str': '39349894 ', 'na...</td>\n",
              "      <td>[Without any basis, the NYAG has pledged to ta...</td>\n",
              "      <td>{'following': ['17454769', '17074440', '581999...</td>\n",
              "      <td>[Politics, Bussiness, Entertainment, Sports]</td>\n",
              "    </tr>\n",
              "    <tr>\n",
              "      <th>98</th>\n",
              "      <td>48223726</td>\n",
              "      <td>{'id': '48223726 ', 'id_str': '48223726 ', 'na...</td>\n",
              "      <td>[Take a moment to soak it all in with one of o...</td>\n",
              "      <td>{'following': ['18462058', '14957318', '145879...</td>\n",
              "      <td>[Politics]</td>\n",
              "    </tr>\n",
              "    <tr>\n",
              "      <th>99</th>\n",
              "      <td>56321478</td>\n",
              "      <td>{'id': '56321478 ', 'id_str': '56321478 ', 'na...</td>\n",
              "      <td>[@CSBence @RepRiggleman See there you go again...</td>\n",
              "      <td>{'following': ['743560108509007872', '85498982...</td>\n",
              "      <td>[Politics]</td>\n",
              "    </tr>\n",
              "  </tbody>\n",
              "</table>\n",
              "<p>100 rows × 5 columns</p>\n",
              "</div>\n",
              "      <button class=\"colab-df-convert\" onclick=\"convertToInteractive('df-023e32e3-6c93-4fd0-9432-f6bb7d6acd8d')\"\n",
              "              title=\"Convert this dataframe to an interactive table.\"\n",
              "              style=\"display:none;\">\n",
              "        \n",
              "  <svg xmlns=\"http://www.w3.org/2000/svg\" height=\"24px\"viewBox=\"0 0 24 24\"\n",
              "       width=\"24px\">\n",
              "    <path d=\"M0 0h24v24H0V0z\" fill=\"none\"/>\n",
              "    <path d=\"M18.56 5.44l.94 2.06.94-2.06 2.06-.94-2.06-.94-.94-2.06-.94 2.06-2.06.94zm-11 1L8.5 8.5l.94-2.06 2.06-.94-2.06-.94L8.5 2.5l-.94 2.06-2.06.94zm10 10l.94 2.06.94-2.06 2.06-.94-2.06-.94-.94-2.06-.94 2.06-2.06.94z\"/><path d=\"M17.41 7.96l-1.37-1.37c-.4-.4-.92-.59-1.43-.59-.52 0-1.04.2-1.43.59L10.3 9.45l-7.72 7.72c-.78.78-.78 2.05 0 2.83L4 21.41c.39.39.9.59 1.41.59.51 0 1.02-.2 1.41-.59l7.78-7.78 2.81-2.81c.8-.78.8-2.07 0-2.86zM5.41 20L4 18.59l7.72-7.72 1.47 1.35L5.41 20z\"/>\n",
              "  </svg>\n",
              "      </button>\n",
              "      \n",
              "  <style>\n",
              "    .colab-df-container {\n",
              "      display:flex;\n",
              "      flex-wrap:wrap;\n",
              "      gap: 12px;\n",
              "    }\n",
              "\n",
              "    .colab-df-convert {\n",
              "      background-color: #E8F0FE;\n",
              "      border: none;\n",
              "      border-radius: 50%;\n",
              "      cursor: pointer;\n",
              "      display: none;\n",
              "      fill: #1967D2;\n",
              "      height: 32px;\n",
              "      padding: 0 0 0 0;\n",
              "      width: 32px;\n",
              "    }\n",
              "\n",
              "    .colab-df-convert:hover {\n",
              "      background-color: #E2EBFA;\n",
              "      box-shadow: 0px 1px 2px rgba(60, 64, 67, 0.3), 0px 1px 3px 1px rgba(60, 64, 67, 0.15);\n",
              "      fill: #174EA6;\n",
              "    }\n",
              "\n",
              "    [theme=dark] .colab-df-convert {\n",
              "      background-color: #3B4455;\n",
              "      fill: #D2E3FC;\n",
              "    }\n",
              "\n",
              "    [theme=dark] .colab-df-convert:hover {\n",
              "      background-color: #434B5C;\n",
              "      box-shadow: 0px 1px 3px 1px rgba(0, 0, 0, 0.15);\n",
              "      filter: drop-shadow(0px 1px 2px rgba(0, 0, 0, 0.3));\n",
              "      fill: #FFFFFF;\n",
              "    }\n",
              "  </style>\n",
              "\n",
              "      <script>\n",
              "        const buttonEl =\n",
              "          document.querySelector('#df-023e32e3-6c93-4fd0-9432-f6bb7d6acd8d button.colab-df-convert');\n",
              "        buttonEl.style.display =\n",
              "          google.colab.kernel.accessAllowed ? 'block' : 'none';\n",
              "\n",
              "        async function convertToInteractive(key) {\n",
              "          const element = document.querySelector('#df-023e32e3-6c93-4fd0-9432-f6bb7d6acd8d');\n",
              "          const dataTable =\n",
              "            await google.colab.kernel.invokeFunction('convertToInteractive',\n",
              "                                                     [key], {});\n",
              "          if (!dataTable) return;\n",
              "\n",
              "          const docLinkHtml = 'Like what you see? Visit the ' +\n",
              "            '<a target=\"_blank\" href=https://colab.research.google.com/notebooks/data_table.ipynb>data table notebook</a>'\n",
              "            + ' to learn more about interactive tables.';\n",
              "          element.innerHTML = '';\n",
              "          dataTable['output_type'] = 'display_data';\n",
              "          await google.colab.output.renderOutput(dataTable, element);\n",
              "          const docLink = document.createElement('div');\n",
              "          docLink.innerHTML = docLinkHtml;\n",
              "          element.appendChild(docLink);\n",
              "        }\n",
              "      </script>\n",
              "    </div>\n",
              "  </div>\n",
              "  "
            ]
          },
          "metadata": {},
          "execution_count": 6
        }
      ]
    },
    {
      "cell_type": "code",
      "source": [
        "labels_df = pd.read_csv('./label.csv')\n",
        "labels_df['id'] = labels_df['id'].str.extract(r'([0-9]+)')\n",
        "labels_df['ID'] = pd.to_numeric(labels_df['id'])\n",
        "\n",
        "labels_df.head()"
      ],
      "metadata": {
        "id": "J3i6jefedCj3",
        "colab": {
          "base_uri": "https://localhost:8080/",
          "height": 206
        },
        "outputId": "ab49ec5b-2746-456a-d567-d81a82043584"
      },
      "execution_count": 7,
      "outputs": [
        {
          "output_type": "execute_result",
          "data": {
            "text/plain": [
              "                    id  label                   ID\n",
              "0             17461978  human             17461978\n",
              "1  1297437077403885568    bot  1297437077403885568\n",
              "2             17685258  human             17685258\n",
              "3             15750898  human             15750898\n",
              "4           1659167666    bot           1659167666"
            ],
            "text/html": [
              "\n",
              "  <div id=\"df-bb887962-ee61-4906-b7e7-3e7c03a90439\">\n",
              "    <div class=\"colab-df-container\">\n",
              "      <div>\n",
              "<style scoped>\n",
              "    .dataframe tbody tr th:only-of-type {\n",
              "        vertical-align: middle;\n",
              "    }\n",
              "\n",
              "    .dataframe tbody tr th {\n",
              "        vertical-align: top;\n",
              "    }\n",
              "\n",
              "    .dataframe thead th {\n",
              "        text-align: right;\n",
              "    }\n",
              "</style>\n",
              "<table border=\"1\" class=\"dataframe\">\n",
              "  <thead>\n",
              "    <tr style=\"text-align: right;\">\n",
              "      <th></th>\n",
              "      <th>id</th>\n",
              "      <th>label</th>\n",
              "      <th>ID</th>\n",
              "    </tr>\n",
              "  </thead>\n",
              "  <tbody>\n",
              "    <tr>\n",
              "      <th>0</th>\n",
              "      <td>17461978</td>\n",
              "      <td>human</td>\n",
              "      <td>17461978</td>\n",
              "    </tr>\n",
              "    <tr>\n",
              "      <th>1</th>\n",
              "      <td>1297437077403885568</td>\n",
              "      <td>bot</td>\n",
              "      <td>1297437077403885568</td>\n",
              "    </tr>\n",
              "    <tr>\n",
              "      <th>2</th>\n",
              "      <td>17685258</td>\n",
              "      <td>human</td>\n",
              "      <td>17685258</td>\n",
              "    </tr>\n",
              "    <tr>\n",
              "      <th>3</th>\n",
              "      <td>15750898</td>\n",
              "      <td>human</td>\n",
              "      <td>15750898</td>\n",
              "    </tr>\n",
              "    <tr>\n",
              "      <th>4</th>\n",
              "      <td>1659167666</td>\n",
              "      <td>bot</td>\n",
              "      <td>1659167666</td>\n",
              "    </tr>\n",
              "  </tbody>\n",
              "</table>\n",
              "</div>\n",
              "      <button class=\"colab-df-convert\" onclick=\"convertToInteractive('df-bb887962-ee61-4906-b7e7-3e7c03a90439')\"\n",
              "              title=\"Convert this dataframe to an interactive table.\"\n",
              "              style=\"display:none;\">\n",
              "        \n",
              "  <svg xmlns=\"http://www.w3.org/2000/svg\" height=\"24px\"viewBox=\"0 0 24 24\"\n",
              "       width=\"24px\">\n",
              "    <path d=\"M0 0h24v24H0V0z\" fill=\"none\"/>\n",
              "    <path d=\"M18.56 5.44l.94 2.06.94-2.06 2.06-.94-2.06-.94-.94-2.06-.94 2.06-2.06.94zm-11 1L8.5 8.5l.94-2.06 2.06-.94-2.06-.94L8.5 2.5l-.94 2.06-2.06.94zm10 10l.94 2.06.94-2.06 2.06-.94-2.06-.94-.94-2.06-.94 2.06-2.06.94z\"/><path d=\"M17.41 7.96l-1.37-1.37c-.4-.4-.92-.59-1.43-.59-.52 0-1.04.2-1.43.59L10.3 9.45l-7.72 7.72c-.78.78-.78 2.05 0 2.83L4 21.41c.39.39.9.59 1.41.59.51 0 1.02-.2 1.41-.59l7.78-7.78 2.81-2.81c.8-.78.8-2.07 0-2.86zM5.41 20L4 18.59l7.72-7.72 1.47 1.35L5.41 20z\"/>\n",
              "  </svg>\n",
              "      </button>\n",
              "      \n",
              "  <style>\n",
              "    .colab-df-container {\n",
              "      display:flex;\n",
              "      flex-wrap:wrap;\n",
              "      gap: 12px;\n",
              "    }\n",
              "\n",
              "    .colab-df-convert {\n",
              "      background-color: #E8F0FE;\n",
              "      border: none;\n",
              "      border-radius: 50%;\n",
              "      cursor: pointer;\n",
              "      display: none;\n",
              "      fill: #1967D2;\n",
              "      height: 32px;\n",
              "      padding: 0 0 0 0;\n",
              "      width: 32px;\n",
              "    }\n",
              "\n",
              "    .colab-df-convert:hover {\n",
              "      background-color: #E2EBFA;\n",
              "      box-shadow: 0px 1px 2px rgba(60, 64, 67, 0.3), 0px 1px 3px 1px rgba(60, 64, 67, 0.15);\n",
              "      fill: #174EA6;\n",
              "    }\n",
              "\n",
              "    [theme=dark] .colab-df-convert {\n",
              "      background-color: #3B4455;\n",
              "      fill: #D2E3FC;\n",
              "    }\n",
              "\n",
              "    [theme=dark] .colab-df-convert:hover {\n",
              "      background-color: #434B5C;\n",
              "      box-shadow: 0px 1px 3px 1px rgba(0, 0, 0, 0.15);\n",
              "      filter: drop-shadow(0px 1px 2px rgba(0, 0, 0, 0.3));\n",
              "      fill: #FFFFFF;\n",
              "    }\n",
              "  </style>\n",
              "\n",
              "      <script>\n",
              "        const buttonEl =\n",
              "          document.querySelector('#df-bb887962-ee61-4906-b7e7-3e7c03a90439 button.colab-df-convert');\n",
              "        buttonEl.style.display =\n",
              "          google.colab.kernel.accessAllowed ? 'block' : 'none';\n",
              "\n",
              "        async function convertToInteractive(key) {\n",
              "          const element = document.querySelector('#df-bb887962-ee61-4906-b7e7-3e7c03a90439');\n",
              "          const dataTable =\n",
              "            await google.colab.kernel.invokeFunction('convertToInteractive',\n",
              "                                                     [key], {});\n",
              "          if (!dataTable) return;\n",
              "\n",
              "          const docLinkHtml = 'Like what you see? Visit the ' +\n",
              "            '<a target=\"_blank\" href=https://colab.research.google.com/notebooks/data_table.ipynb>data table notebook</a>'\n",
              "            + ' to learn more about interactive tables.';\n",
              "          element.innerHTML = '';\n",
              "          dataTable['output_type'] = 'display_data';\n",
              "          await google.colab.output.renderOutput(dataTable, element);\n",
              "          const docLink = document.createElement('div');\n",
              "          docLink.innerHTML = docLinkHtml;\n",
              "          element.appendChild(docLink);\n",
              "        }\n",
              "      </script>\n",
              "    </div>\n",
              "  </div>\n",
              "  "
            ]
          },
          "metadata": {},
          "execution_count": 7
        }
      ]
    },
    {
      "cell_type": "code",
      "source": [
        "df = pd.merge(dataset[['ID', 'tweet']], labels_df[['ID', 'label']], on='ID', how='left')\n",
        "df = df.dropna(axis=0, subset=['tweet'])\n",
        "df"
      ],
      "metadata": {
        "id": "p4WHkIF7crpb",
        "colab": {
          "base_uri": "https://localhost:8080/",
          "height": 424
        },
        "outputId": "2305eb39-13fe-494d-b4aa-f2d5f44b96a9"
      },
      "execution_count": 9,
      "outputs": [
        {
          "output_type": "execute_result",
          "data": {
            "text/plain": [
              "                    ID                                              tweet  \\\n",
              "0             17461978  [RT @CarnivalCruise: 🎉 Are you ready to see wh...   \n",
              "2             17685258  [RT @realDonaldTrump: THANK YOU #RNC2020! http...   \n",
              "3             15750898  [A family fears they may have been cheated out...   \n",
              "4           1659167666  [RT @VonteThePlug: Yeah but he ain’t got one h...   \n",
              "5             34743251  [RT @elonmusk: Aloha, welcome back from space ...   \n",
              "..                 ...                                                ...   \n",
              "95  843514885644271616  [@doriandetails https://t.co/iiW9NlqTmZ\\n, @us...   \n",
              "96            24578794  [The Vichy Republicans were embarrassing last ...   \n",
              "97            39349894  [Without any basis, the NYAG has pledged to ta...   \n",
              "98            48223726  [Take a moment to soak it all in with one of o...   \n",
              "99            56321478  [@CSBence @RepRiggleman See there you go again...   \n",
              "\n",
              "    label  \n",
              "0   human  \n",
              "2   human  \n",
              "3   human  \n",
              "4     bot  \n",
              "5   human  \n",
              "..    ...  \n",
              "95    bot  \n",
              "96  human  \n",
              "97  human  \n",
              "98  human  \n",
              "99    bot  \n",
              "\n",
              "[99 rows x 3 columns]"
            ],
            "text/html": [
              "\n",
              "  <div id=\"df-5ea08598-3565-4d8c-91b4-2e8dde93085d\">\n",
              "    <div class=\"colab-df-container\">\n",
              "      <div>\n",
              "<style scoped>\n",
              "    .dataframe tbody tr th:only-of-type {\n",
              "        vertical-align: middle;\n",
              "    }\n",
              "\n",
              "    .dataframe tbody tr th {\n",
              "        vertical-align: top;\n",
              "    }\n",
              "\n",
              "    .dataframe thead th {\n",
              "        text-align: right;\n",
              "    }\n",
              "</style>\n",
              "<table border=\"1\" class=\"dataframe\">\n",
              "  <thead>\n",
              "    <tr style=\"text-align: right;\">\n",
              "      <th></th>\n",
              "      <th>ID</th>\n",
              "      <th>tweet</th>\n",
              "      <th>label</th>\n",
              "    </tr>\n",
              "  </thead>\n",
              "  <tbody>\n",
              "    <tr>\n",
              "      <th>0</th>\n",
              "      <td>17461978</td>\n",
              "      <td>[RT @CarnivalCruise: 🎉 Are you ready to see wh...</td>\n",
              "      <td>human</td>\n",
              "    </tr>\n",
              "    <tr>\n",
              "      <th>2</th>\n",
              "      <td>17685258</td>\n",
              "      <td>[RT @realDonaldTrump: THANK YOU #RNC2020! http...</td>\n",
              "      <td>human</td>\n",
              "    </tr>\n",
              "    <tr>\n",
              "      <th>3</th>\n",
              "      <td>15750898</td>\n",
              "      <td>[A family fears they may have been cheated out...</td>\n",
              "      <td>human</td>\n",
              "    </tr>\n",
              "    <tr>\n",
              "      <th>4</th>\n",
              "      <td>1659167666</td>\n",
              "      <td>[RT @VonteThePlug: Yeah but he ain’t got one h...</td>\n",
              "      <td>bot</td>\n",
              "    </tr>\n",
              "    <tr>\n",
              "      <th>5</th>\n",
              "      <td>34743251</td>\n",
              "      <td>[RT @elonmusk: Aloha, welcome back from space ...</td>\n",
              "      <td>human</td>\n",
              "    </tr>\n",
              "    <tr>\n",
              "      <th>...</th>\n",
              "      <td>...</td>\n",
              "      <td>...</td>\n",
              "      <td>...</td>\n",
              "    </tr>\n",
              "    <tr>\n",
              "      <th>95</th>\n",
              "      <td>843514885644271616</td>\n",
              "      <td>[@doriandetails https://t.co/iiW9NlqTmZ\\n, @us...</td>\n",
              "      <td>bot</td>\n",
              "    </tr>\n",
              "    <tr>\n",
              "      <th>96</th>\n",
              "      <td>24578794</td>\n",
              "      <td>[The Vichy Republicans were embarrassing last ...</td>\n",
              "      <td>human</td>\n",
              "    </tr>\n",
              "    <tr>\n",
              "      <th>97</th>\n",
              "      <td>39349894</td>\n",
              "      <td>[Without any basis, the NYAG has pledged to ta...</td>\n",
              "      <td>human</td>\n",
              "    </tr>\n",
              "    <tr>\n",
              "      <th>98</th>\n",
              "      <td>48223726</td>\n",
              "      <td>[Take a moment to soak it all in with one of o...</td>\n",
              "      <td>human</td>\n",
              "    </tr>\n",
              "    <tr>\n",
              "      <th>99</th>\n",
              "      <td>56321478</td>\n",
              "      <td>[@CSBence @RepRiggleman See there you go again...</td>\n",
              "      <td>bot</td>\n",
              "    </tr>\n",
              "  </tbody>\n",
              "</table>\n",
              "<p>99 rows × 3 columns</p>\n",
              "</div>\n",
              "      <button class=\"colab-df-convert\" onclick=\"convertToInteractive('df-5ea08598-3565-4d8c-91b4-2e8dde93085d')\"\n",
              "              title=\"Convert this dataframe to an interactive table.\"\n",
              "              style=\"display:none;\">\n",
              "        \n",
              "  <svg xmlns=\"http://www.w3.org/2000/svg\" height=\"24px\"viewBox=\"0 0 24 24\"\n",
              "       width=\"24px\">\n",
              "    <path d=\"M0 0h24v24H0V0z\" fill=\"none\"/>\n",
              "    <path d=\"M18.56 5.44l.94 2.06.94-2.06 2.06-.94-2.06-.94-.94-2.06-.94 2.06-2.06.94zm-11 1L8.5 8.5l.94-2.06 2.06-.94-2.06-.94L8.5 2.5l-.94 2.06-2.06.94zm10 10l.94 2.06.94-2.06 2.06-.94-2.06-.94-.94-2.06-.94 2.06-2.06.94z\"/><path d=\"M17.41 7.96l-1.37-1.37c-.4-.4-.92-.59-1.43-.59-.52 0-1.04.2-1.43.59L10.3 9.45l-7.72 7.72c-.78.78-.78 2.05 0 2.83L4 21.41c.39.39.9.59 1.41.59.51 0 1.02-.2 1.41-.59l7.78-7.78 2.81-2.81c.8-.78.8-2.07 0-2.86zM5.41 20L4 18.59l7.72-7.72 1.47 1.35L5.41 20z\"/>\n",
              "  </svg>\n",
              "      </button>\n",
              "      \n",
              "  <style>\n",
              "    .colab-df-container {\n",
              "      display:flex;\n",
              "      flex-wrap:wrap;\n",
              "      gap: 12px;\n",
              "    }\n",
              "\n",
              "    .colab-df-convert {\n",
              "      background-color: #E8F0FE;\n",
              "      border: none;\n",
              "      border-radius: 50%;\n",
              "      cursor: pointer;\n",
              "      display: none;\n",
              "      fill: #1967D2;\n",
              "      height: 32px;\n",
              "      padding: 0 0 0 0;\n",
              "      width: 32px;\n",
              "    }\n",
              "\n",
              "    .colab-df-convert:hover {\n",
              "      background-color: #E2EBFA;\n",
              "      box-shadow: 0px 1px 2px rgba(60, 64, 67, 0.3), 0px 1px 3px 1px rgba(60, 64, 67, 0.15);\n",
              "      fill: #174EA6;\n",
              "    }\n",
              "\n",
              "    [theme=dark] .colab-df-convert {\n",
              "      background-color: #3B4455;\n",
              "      fill: #D2E3FC;\n",
              "    }\n",
              "\n",
              "    [theme=dark] .colab-df-convert:hover {\n",
              "      background-color: #434B5C;\n",
              "      box-shadow: 0px 1px 3px 1px rgba(0, 0, 0, 0.15);\n",
              "      filter: drop-shadow(0px 1px 2px rgba(0, 0, 0, 0.3));\n",
              "      fill: #FFFFFF;\n",
              "    }\n",
              "  </style>\n",
              "\n",
              "      <script>\n",
              "        const buttonEl =\n",
              "          document.querySelector('#df-5ea08598-3565-4d8c-91b4-2e8dde93085d button.colab-df-convert');\n",
              "        buttonEl.style.display =\n",
              "          google.colab.kernel.accessAllowed ? 'block' : 'none';\n",
              "\n",
              "        async function convertToInteractive(key) {\n",
              "          const element = document.querySelector('#df-5ea08598-3565-4d8c-91b4-2e8dde93085d');\n",
              "          const dataTable =\n",
              "            await google.colab.kernel.invokeFunction('convertToInteractive',\n",
              "                                                     [key], {});\n",
              "          if (!dataTable) return;\n",
              "\n",
              "          const docLinkHtml = 'Like what you see? Visit the ' +\n",
              "            '<a target=\"_blank\" href=https://colab.research.google.com/notebooks/data_table.ipynb>data table notebook</a>'\n",
              "            + ' to learn more about interactive tables.';\n",
              "          element.innerHTML = '';\n",
              "          dataTable['output_type'] = 'display_data';\n",
              "          await google.colab.output.renderOutput(dataTable, element);\n",
              "          const docLink = document.createElement('div');\n",
              "          docLink.innerHTML = docLinkHtml;\n",
              "          element.appendChild(docLink);\n",
              "        }\n",
              "      </script>\n",
              "    </div>\n",
              "  </div>\n",
              "  "
            ]
          },
          "metadata": {},
          "execution_count": 9
        }
      ]
    },
    {
      "cell_type": "code",
      "source": [
        "train, vt = train_test_split(df, test_size=0.2)\n",
        "valid, test = train_test_split(vt, test_size=0.5)"
      ],
      "metadata": {
        "id": "iKbf-hkqRncG"
      },
      "execution_count": 29,
      "outputs": []
    },
    {
      "cell_type": "markdown",
      "source": [
        "### Sample User\n",
        "\n",
        "Look at the properties of a sample user.\n",
        "\n",
        "The first example is a human, the second example is a bot."
      ],
      "metadata": {
        "id": "bZSSI1q5ignB"
      }
    },
    {
      "cell_type": "code",
      "source": [
        "print(\"User \", df.iloc[0]['ID'], \", \", len(df.iloc[0]['tweet']), \" tweets, \", df.iloc[0]['label'], \"\\n\")\n",
        "df.iloc[0]['tweet'][0:5]"
      ],
      "metadata": {
        "id": "DXZIXVHriohC",
        "colab": {
          "base_uri": "https://localhost:8080/"
        },
        "outputId": "bdc46b88-d8fc-49ff-bb41-53afa04ec367"
      },
      "execution_count": 11,
      "outputs": [
        {
          "output_type": "stream",
          "name": "stdout",
          "text": [
            "User  17461978 ,  200  tweets,  human \n",
            "\n"
          ]
        },
        {
          "output_type": "execute_result",
          "data": {
            "text/plain": [
              "['RT @CarnivalCruise: 🎉 Are you ready to see what our newest ship’s name will be? 🎉 Thanks to all our partners for helping us unbox the name.…\\n',\n",
              " 'Who has time for receipts? Not me. @epson receipt scanners make it easy. No mess = no stress! Check it out at https://t.co/ofqbTdz0Qk. https://t.co/BtYwuyz9N5\\n',\n",
              " 'Steady wants to encourage you to invest in your financial future. Connect your bank account to @TheSteadyApp and have access to benefits like income insights, online medical visits, and cash grants of up to $1,000! Get started today by visiting https://t.co/5w3AvWd8Q0. #Sponsored https://t.co/ZHBfP5xDMg\\n',\n",
              " \"Good one, @rishid. But let’s see if y'all can do better than that. Come on, everybody. Show me your best #HandShaq! #ad https://t.co/xCloeLRfuM https://t.co/urVSOfTmT2\\n\",\n",
              " '#lsunationalchamps\\n']"
            ]
          },
          "metadata": {},
          "execution_count": 11
        }
      ]
    },
    {
      "cell_type": "code",
      "source": [
        "print(\"User \", df.iloc[3]['ID'], \", \", len(df.iloc[3]['tweet']), \" tweets, \", df.iloc[3]['label'], \"\\n\")\n",
        "df.iloc[3]['tweet'][0:5]"
      ],
      "metadata": {
        "id": "D3RR2_d4ja79",
        "colab": {
          "base_uri": "https://localhost:8080/"
        },
        "outputId": "ad54a320-9c7a-4150-fe02-bf5176272913"
      },
      "execution_count": 12,
      "outputs": [
        {
          "output_type": "stream",
          "name": "stdout",
          "text": [
            "User  1659167666 ,  88  tweets,  bot \n",
            "\n"
          ]
        },
        {
          "output_type": "execute_result",
          "data": {
            "text/plain": [
              "['RT @VonteThePlug: Yeah but he ain’t got one happy song nigga always distraught 😂\\n',\n",
              " 'RT @VonteThePlug: I’m tryna tell y’all I’m really like that but don’t take my word take a listen 😚🔥 https://t.co/1McoyAVcqh\\n',\n",
              " 'RT @VonteThePlug: Available on all platforms go get it 👇🏾 it’s heat I swear 🔥🤧https://t.co/lRDn7UGwNI\\n',\n",
              " 'RT @VonteThePlug: Boy fuck you\\n',\n",
              " 'RT @VonteThePlug: Bodied Da Baby beat. Ight Twitter y’all know what to do 🔥 https://t.co/nLZAzQUziG\\n']"
            ]
          },
          "metadata": {},
          "execution_count": 12
        }
      ]
    },
    {
      "cell_type": "markdown",
      "source": [
        "## Data Pre-Processing\n",
        "\n",
        "Wei and Nguyen used GloVe word embeddings. Special words like Hashtags (#), mentions (@), and shortened URLs (http://t.co) were mapped to specific tokens."
      ],
      "metadata": {
        "id": "6lUQEFbElvLe"
      }
    },
    {
      "cell_type": "markdown",
      "source": [
        "### Dating cleaning"
      ],
      "metadata": {
        "id": "BfSjyFEzo-w-"
      }
    },
    {
      "cell_type": "code",
      "source": [
        "def clean_text(input):\n",
        "    lowercase = input.lower()\n",
        "    url_token = re.sub('https://t.co\\/[^\\s]+', ' <url> ', lowercase)\n",
        "    hashtag_token = re.sub('#[^\\s]+', ' <hashtag> ', url_token)\n",
        "    mention_token = re.sub('@[^\\s]+', ' <user> ', hashtag_token)\n",
        "    retweet_token = re.sub(r'rt\\s+', ' rt ', mention_token)\n",
        "    strip_punc = re.sub('[^a-zA-Z0-9\\<\\>]', ' ', retweet_token)\n",
        "    strip_num = re.sub('(?<=\\\\d) +(?=\\\\d)', '', strip_punc)\n",
        "    num = re.sub('\\d+', ' <number> ', strip_num)\n",
        "    strip_nl = re.sub(r'\\s\\s+', ' ', num)\n",
        "    return strip_nl"
      ],
      "metadata": {
        "id": "J1RJfHXKl6pZ"
      },
      "execution_count": 13,
      "outputs": []
    },
    {
      "cell_type": "code",
      "source": [
        "df['tweet_comb'] = df['tweet'].apply(lambda x: ' <SEP> '.join(x))\n",
        "df['tweet_clean'] = df['tweet_comb'].apply(lambda x: clean_text(x))"
      ],
      "metadata": {
        "id": "PuQ6pzMgQd7_"
      },
      "execution_count": 14,
      "outputs": []
    },
    {
      "cell_type": "code",
      "source": [
        "df['tweet_clean'].iloc[0]"
      ],
      "metadata": {
        "id": "GG3SRLtfspX1",
        "colab": {
          "base_uri": "https://localhost:8080/",
          "height": 146
        },
        "outputId": "a76b42cf-b46d-4fb7-8932-e08556e80da1"
      },
      "execution_count": 15,
      "outputs": [
        {
          "output_type": "execute_result",
          "data": {
            "text/plain": [
              "' rt <user> are you ready to see what our newest ship s name will be thanks to all our partners for helping us unbox the name <sep> who has time for receipts not me <user> receipt scanners make it easy no mess no stress check it out at <url> <url> <sep> steady wants to encourage you to invest in your financial future connect your bank account to <user> and have access to benefits like income insights online medical visits and cash grants of up to <number> get started today by visiting <url> <hashtag> <url> <sep> good one <user> but let s see if y all can do better than that come on everybody show me your best <hashtag> <hashtag> <url> <url> <sep> <hashtag> <sep> i stand with the student athletes <hashtag> <sep> wish me luck america i m back for <hashtag> it all starts tonight at <number> p et on <user> and catch me taking the ultimate plunge on shaqattack tomorrow at <number> p et <url> <sep> i am joining tennis champion <user> on <user> <hashtag> join us for an all star episode today at <number> a m pt <url> <url> <sep> let s do it again today i m nominating <user> <url> <user> <user> <user> in <hashtag> to get their employees amp customers ready to vote this november take the pledge today amp register gt <url> <url> <sep> we did it the first ever <hashtag> had over <number> million live viewers who helped <user> and i raise money for the <user> and <user> with <number> million meals donated to <user> a big shoutout to <user> and everyone who performed watch this <user> <url> <sep> i m partnering with <user> to challenge <hashtag> <user> <user> <user> <user> <user> to pledge to vote this november together we can be the change we want to see in the world register today gt <url> <url> <sep> <user> and i have made a lot of fun commercials over the years this is one of my favorites which one do you like best video <url> <sep> <url> <sep> you guys know how much i love music my friends at <user> put together this awesome summer playlist what are some of your favorite summer tunes <url> <url> <sep> whoopi we will make a difference love u <sep> tear it up with <user> out now on <user> <url> <url> <sep> like all of our frontline workers kevin morton is a true hero to see how you can help us reach <number> million coffee shot donations through our first responder program <url> <hashtag> <url> <sep> we re back join me <user> <user> and <user> at <number> pm et on tnt <url> <sep> dedicating this <user> shot for heroes to the boys and girls club of america if you ve got a hero you want to give a shout out to share your video and use <hashtag> <url> <sep> <user> couldn t hang in sports trivia presented by <user> special thanks to them for helping sanitize the studio with bioprotect which last for <number> days amp providing their alcohol free hand sanitizer which kills germs for up to <number> hrs <hashtag> <url> <sep> thank you to <user> and every who tuned in saturday night to the first ever shaq s fun house vs gronk beach it was truly a party with a purpose in suppo rt of two amazing organizations <url> <sep> love u and miss u brother <user> <url> <sep> finally a slice big enough for my hand introducing the new shaq a roni pizza loaded w extra pepperoni amp cheese on fresh dough stretched thin w toppings to the edge <user> will donate <number> from every purchase to the papa john s foundation for building community <url> <sep> thanks to our official food delivery partner <user> for their generous donation of meals to families in need over <number> million people tuned in this weekend amp thanks to you we met our goal doordash will donate <number> million meals through their partnership with <user> <url> <sep> i went head to head with <user> in a game of horse presented by <user> it was game over shaq style when i showed everyone i still got it with my epic dunk <url> <sep> welcome to the <hashtag> big clix <url> <sep> i dominated <user> in the <user> sports showdown on shaq s fun house vs gronk beach here s the proof <url> <sep> always a good time when i team up with <user> <hashtag> <hashtag> <url> <sep> <url> <sep> i am going all out tonight with <user> tune in tonight at <number> pm est on my to watch me and <user> competing in epic challenges for charity plus performances from <user> <user> <user> <user> follow me on tik tok gt gt <url> <sep> tonight at <number> pm est on <user> watch me beat <user> in epic challenges while raising money for social justice on shaq s fun house vs gronk beach plus performances from <user> <user> <user> <user> amp more sorry gronk i m winning <url> <sep> there s a new item in the <user> snack aisles that s right it s <user> join me in a facebook live wednesday <number> p m et to celebrate with games live music <user> and giveaways <hashtag> <url> <url> <sep> <user> and i are giving you a chance to have the ultimate virtual pizza party with me amp <user> just go to <url> and sign up for papa rewards to automatically be entered no purchase necessary ends <number> official rules <url> <url> <sep> autographed jerseys and more plus <number> winners will get an autographed ball just for registering go to <url> to learn more and enter for your chance to win <sep> are you ready to party with a purpose alongside me and <user> win an exclusive fan experience with the general admission sweepstakes <number> grand prize winner will win the general admission prize pack including a virtual meet and greet with myself and gronk <url> <sep> together with <user> amp my partners <user> we created a virtual party with a purpose i m gonna take gronk on for charity amp get down with <user> <user> <user> <user> amp <user> tune in <number> at <url> amp on <user> <url> <sep> rt <user> <user> was pa rt of the celebrity pannel on the match game <number> q this lockdown was murder on my dating life the only wo <sep> two of the most impressive women in sports media joined us on the <user> the last couple weeks check out the amazing <user> and <user> <url> <url> <sep> rt <user> <user> and <user> play a round of walma rt or waffle house which taylor takes way too seriously from this week <sep> <user> <user> <user> yes i would of <sep> rt <user> <user> most disrespectful dunks ever <url> <sep> <user> <user> <user> free throws didn t stop me in the finals ask your momma i left her tickets <sep> looks good congrats ryan <hashtag> <url> <sep> go follow my <user> twitter <sep> gettin ready to judge nacho average showdown supporting <user> on <user> fb and decided to throw myself in the ring too introducing <user> nacho fries available for a limited time portion of proceeds will be donated to the restaurant employee relief fund <url> <sep> <user> <user> proud to be a pa rt of this team <user> <sep> yo frank this was hilarious thanks <url> <sep> check it out i joined tony and mission tiger to help bring sports back to young scholars middle school in philly <hashtag> <user> <url> <sep> proud to see <user> donated <number> masks to <user> this week <hashtag> <url> <sep> i m working with <user> to donate <number> million coffee shots to our <hashtag> go to <url> to see how you can help <hashtag> <url> <sep> diesel shaq lollapalooza usa <number> <url> via <user> <sep> my hero is my mom she s my hero every day not just on mother s day let me know who your heroes are with <hashtag> <user> <hashtag> <url> <sep> i m always trying to do bigger and better things every day find out how i accomplish what s important to me on the season finale of <hashtag> tonight at <number> c on <user> <hashtag> <url> <sep> congrats to my friends at si excited to see the greatest sports stories brought to life on all screens <user> <url> <sep> i m so proud of this young lady she s working hard and having new life experiences helping people every day without hesitation thank you <user> <url> <sep> rt <user> for <hashtag> we re giving away <number> <hashtag> scanners comment below and use <hashtag> to enter <number> winner eac <sep> what will i be doing for <hashtag> thanks to the <hashtag> scanner it ll be mom me and our favorite memories check out the fun we had with <user> <hashtag> <url> <sep> please join my friends at asia society socal on sunday may <number> d at <number> p m pst <number> p m est for their virtual event standing against racism in the time of covid we are all in this together <url> <sep> i m so proud of this young lady she s working hard and having new life experiences helping people every day without hesitation thank you samandamarie <url> <sep> family is everything to me but sometimes you gotta use a little tough love find out what i mean on <hashtag> tonight at <number> c on <user> <hashtag> <url> <sep> had a great time talking with <user> and <user> from <user> they are back tonight and you won t wanna miss them in action <url> <sep> live <hashtag> show from my friends <user> go check it out live now <url> <sep> my friends in croatia call me o nealovich find out why on <hashtag> tonight at <number> c on <user> <hashtag> <url> <sep> yo <user> this was hilarious you gotta join us soon from this weeks <hashtag> <url> <url> <sep> rt <user> what s your favorite prince song tweet us using <hashtag> <url> <sep> today i m helping to launch the <hashtag> campaign hang a hat on your front door to show thanks to the frontline food workers keeping us fed while we shelter at home tag a photo of it with <hashtag> let s spread the love <url> <sep> i call it the video call mullet all business on top in xlg and chilling on the bottom what song do you think i m jamming to in this video <user> <hashtag> <url> <sep> <hashtag> to one of the greatest shows i ever put on at the iconic venue red rocks catch me in action on <hashtag> tomorrow at <number> c on <user> <hashtag> <url> <sep> got some down time for <user> while staying safe at home find my galaxy opal card in the limited myteam pack <url> <sep> with so many out of work my friends at <user> want to help we re hiring up to <number> new employees shift leaders drivers and more you in apply now at <url> or text jobs to <number> <hashtag> <url> <sep> for students learning from home without internet having the basics is critical thanks to <user> generosity amp suppo rt for each post that includes <hashtag> <number> pencils will be provided to underserved students through <user> more info at <url> <sep> my family my work my everything don t miss the premiere of my new series <hashtag> tonight at <number> c on <user> <hashtag> <url> <sep> he brought us a title a heisman and will go <hashtag> and he s on the <user> this week <hashtag> thank u <user> for joining us on the show <url> <sep> not all heroes wear capes i would like to thank all of our hardworking healthcare workers by offering a complimentary meal at <user> in glendale ca amp las vegas nv april <number> look for healthcare appreciation week on <url> for ordering info <sep> rt <user> what was your favorite moment from this past season of storytime with <user> catch the season <number> special with the big fella an <sep> i m so proud to be a pa rt of forto well done team let s all find ways to celebrate amp suppo rt our <hashtag> <hashtag> <url> <sep> check me and my bro <user> on the storytime with <hashtag> special on <user> saturday april <number> th <number> p east coast <number> p west coast <hashtag> <hashtag> <hashtag> <hashtag> <url> <sep> can you believe i ve got my own show with <user> tune in to <hashtag> april <number> th <user> <url> <sep> my man ice trae <user> is on this weeks <user> so have some laughs with us we r posting new shows every week to help get u thru this and they re always free <url> <sep> rt <user> quarantine day <number> <url> <sep> rt <user> give them while they are breathing <number> my brother dj <user> trendsetter amp trailblazer the <number> st of his kind yours truly <user> <sep> rt <user> the big fella discusses some of his best commercials with <user> on the latest storytime with <user> <url> <sep> margaret anadu my good friend running in <number> for mayor of nyc <user> <hashtag> <sep> it s always great catching up with my buddy now more than ever friends are important <user> and i encourage you to look out for each other <hashtag> <url> <sep> <user> <number> times <sep> rt <user> <number> years ago today <user> dunked all over chris dudley <url> <sep> big shoutout to <user> for taking care of all their employees during these difficult times we all <number> family and i am proud to be a <user> resident hope everyone in vegas and around the world is staying home and staying safe better times ahead <url> <sep> rt <user> yoooo <user> x <user> <user> x <user> so <url> <sep> what would you do if i asked you to the sing the general jingle <hashtag> <hashtag> <url> <sep> <hashtag> attn business owners spend more time crushing deadlines not expensive ink cartridges get down to business with cartridge free printing <user> <url> <sep> <hashtag> tune in to cooking with shaq premiering tonight at <number> pm et only on <user> plus new customers can use code shaq <number> for <number> off <hashtag> <url> <url> <sep> rt <user> now i m starting to get some diesel gas in this tank on this episode of storytime with <user> the big fella brings his <sep> <hashtag> come play ball with me and my celebrity friends plus charles barkley at the celebrity crunch classic in atlanta just go to <url> and vote for team cheez it for your chance to win rules <url> <url> <sep> it s friday time to find your friends and get after it <hashtag> <user> <user> <user> <hashtag> <url> <sep> <hashtag> throwback to when i hit the streets of miami with <user> for a fun pop quiz y all know who my first insurance provider was but can you guess what my first car was <hashtag> <url> <sep> the <user> fam just got bigger congrats to <user> and abg on acquiring <user> <url> <sep> kicking off the <user> premiere at <user> soon join me the cast and crew on the red carpet before the screening to celebrate the film and help raise awareness about corruption in foster care suppo rt the movement to <hashtag> today <url> <sep> <hashtag> let s show charles barkley what a champion looks like when we beat him at the celebrity crunch classic just vote for my team at <url> for your chance to join me in atlanta no purchase necessary for info rules <url> <url> <sep> <user> new heart shaped pizza lens is just what the love doctor ordered try it out now on snapchat <url> <url> <sep> every year <user> gets bigger and better and this year was no different shoutout to everyone who rocked the stage with me and those who came out <url> <sep> who needs a pink diamond shaq my brotha <user> s prime series pack just dropped in <user> <hashtag> <url> <sep> thank you guys for all the kind messages on this weeks <user> and hearing the game callers fall flat on <user> is classic <url> see you guys monday <sep> new month new you kick off february by setting financial goals for yourself my friends at <user> can help you save and earn money it s easy get started today by visiting <url> <hashtag> <url> <sep> socal my second <user> is now open in glendale ca across from <user> <hashtag> <hashtag> <url> <sep> rt <user> what s your favorite film <user> starred in on the latest storytime with shaq he recounts some of the movies he was in with <sep> <hashtag> even if you missed <hashtag> in miami this weekend you can at least eat like you were there <user> new <hashtag> out now sry doesn t come with the garlic sauce fountain <url> <sep> <url> <sep> the <user> tribute to my brother kobe bryant <url> <hashtag> <sep> kobe was so much more than an athlete he was a family man that was what we had most in common i would hug his children like they were my own and he would embrace my kids like they were his his baby girl gigi was born on the same day as my youngest daughter me arah <url> <sep> there s no words to express the pain im going through with this tragedy of loosing my neice gigi amp my brother <user> i love u and u will be missed my condolences goes out to the bryant family and the families of the other passengers on board im sick right now <url> <sep> <user> <user> <user> <user> <user> <user> <user> <user> <user> <user> <user> <user> <user> deal see you in miami <sep> <user> <user> <user> <user> <user> <user> <user> <user> <user> <user> <user> <user> <user> we got some competition for the best big game weekend party bro <sep> <user> <user> <user> <user> <user> <user> <user> game on bro i am bringing out my all stars to the fun house <user> <user> <user> <user> <user> plus <user> on the swisher stage andddd a full size carnival oh ya i have a big special guest <user> told me he can finally make it this year <sep> hear you will be in miami this year <user> u coming by my fun house to learn how to really throw a party <sep> <hashtag> car check keys check insurance call the general to get covered <user> <url> <sep> psa shaq s fun house tix are almost sold out join me at my big game weekend extravaganza featuring <user> <user> <user> <user> <user> swisher sweets stage <user> amp more next friday in miami get your tix at <url> for free food amp open bar <url> <sep> rt <user> in the latest storytime with shaq <user> and the big fella talk about how <user> first met future teammate penny hardaway wh <sep> <user> as the chief fun officer i need to make this happen you know i got you boo boo i m putting you on a cruise sta rt packing don t worry about cruise wear you can borrow mine <hashtag> <user> <sep> rt <user> <user> is going to perform on the <user> artist project stage at shaq s fun house <url> <sep> rt <user> to think that our <user> our very own mike ryan almost announced what was in those cryptic texts from his fath <sep> you already know it s me and the mamba <url> <sep> <hashtag> check out dallas baller kylon owens i got to be his personal big amp tall stylist at <user> for the day kylon s graduating with a high school diploma and associate s degree at the same time and has played varsity ball since freshman year <hashtag> <url> <sep> it is official my <user> starting lineup is one of the best teams ever assembled <user> <user> <user> <user> <user> <user> and <user> swisher stage big game weekend dream team see you in miami few tickets remain at <url> <url> <sep> rt <user> when you re in the dj booth but <user> is still taller than you thnx for having me big man <user> https t <sep> rt <user> <hashtag> is going to be epic see you there tickets amp info here <url> <url> <sep> i decided the other night that <user> and i need to sing africa on the main stage at <user> you in boi boi <url> <sep> rt <user> in this week s storytime with shaq <user> and <user> relive memories of collecting basketball cards and how one particular p <sep> watch <user> on undercover boss tonight wed jan <number> th <number> c on cbs to see if my buddies <user> amp <user> can stand the heat in the kitchen <hashtag> <sep> you re looking at krispy kreme s new year s resolutions coach america i m here to help you stay on track with your resolutions with these little guys new <user> minis at only <number> calories you can <hashtag> and keep your resolutions on track <hashtag> <url> <sep> rip mr david stern the best commissioner to ever do it <url> <sep> thank you mr li for being a loyal fan and especially for the awesome drawing <url> <url> <sep> now this is how you make an ad <hashtag> <user> <url> <sep> rt <user> shaq a claus gets into the spirit of giving on this episode of storytime with <user> <url> <sep> i want to give a special shout out to everyone who made this year s shaq a claus a big success thank you for your suppo rt <user> <user> <user> <user> <user> <url> <sep> tickets to shaq s fun house miami are on sale now join me alongside <user> <user> <user> <user> <user> and special guest on the swisher sweets stage <user> at the biggest party in miami <url> <url> <sep> rt <user> ending <number> with another huge win every team nominated is insane and we are honored to win the <user> team of the yea <sep> shaq s fun house big game weekend miami feat <user> <user> <user> <user> <user> <user> <user> tickets on sale thursday at <number> am est sign up now at <url> <url> <sep> my <user> dance <url> <sep> thanks to <user> we re delivering smiles to kids across the country this week let me know how you re giving back this season too with <hashtag> <url> <sep> rt <user> in this episode of storytime with shaq the big fella talks <user> taking him under his wing amp plays a fun game of start bench <sep> <hashtag> looking to make a little more cash for this holiday season earn money through <user> income boosters visit <url> now to sta rt spreading the holiday cheer <hashtag> <url> <sep> <hashtag> had to go undercover to get a peek at <user> new crust <url> <sep> <hashtag> my new smashup from <user> is the perfect birthday surprise go check it out <hashtag> <hashtag> <url> <url> <sep> rt <user> <user> sat down with the big fella for another episode of storytime with <user> <url> <sep> rt <user> shaq talks his rap competition with dame his top emcees amp more in this segment of storytime with shaq <url> <sep> rt <user> on the latest episode of storytime with shaq <user> recaps <user> summertime adventures as dj diesel <url> <sep> hey guys trying to make some more money with a side hustle <user> got your back sign up complete offers and steady will put money in your pocket don t believe me see for yourself by checking out <url> <hashtag> <url> <sep> <hashtag> join me and encourage a pair of your friends or family to <hashtag> and get an exam during <hashtag> month this november <url> <sep> come on young filmmakers let s see your stuff submit your movies <url> awesome cause <user> <user> awesome prizes hollywood judges <hashtag> <sep> <user> thanks for the condolences and the love if i had older brothers it would be you <number> love y all and love you more candice <sep> <hashtag> last night on <user> we had some very special guests but the best were the two lucky audience members i gave a <user> to as cfo i get to do fun things like that <hashtag> <hashtag> <url> <sep> can you say rookie of the year <hashtag> is one of the next great actors of his generation props to his emotional moving performance as a boy struggling with <hashtag> from abuse in the foster care system <user> is a must watch <hashtag> <url> <sep> hey guys trying to make some more money with a side hustle <user> got your back sign up complete offers and steady will put money in your pocket don t believe me see for yourself by checking out <url> <hashtag> <url> <sep> the <hashtag> crisis in america puts <number> kids in the system at any one time <number> are unemployed amp <number> experience homelessness after aging out our nation s youth deserve better follow my film <user> amp join the movement to <hashtag> <url> <sep> hey <user> you coming to shaq s bass all stars at <user> tomorrow night heard it s almost sold out <url> <url> <sep> what a way to kick this week off las vegas so much fun with <user> <user> and <user> great night at jbl remix <hashtag> <hashtag> <url> <sep> rt <user> look at my baby thanks <user> <url> <sep> <user> i sound as dumb as your profile pic <sep> <user> u should i own it now homie <sep> <user> iman killed that <sep> <user> never ill <sep> <user> we gonna kill it brothe you not opening for me we gonna tear the house down together we a team <hashtag> <sep> look at my baby thanks <user> <url> <sep> too many foster kids are scared neglected lonely amp abused i m proud to be both an executive amp presenting producer of <user> an inspiring new film that will make its worldwide premiere at <user> <user> later this week <url> <sep> run dmc was jammin like a mug <url> <sep> great news i m teaming up with my friends at <user> to give you the chance to join me in a game of one on one grab a selfie eat some <user> pizza and visit the set of <user> buy your entries to the <hashtag> today <user> <url> <hashtag> <url> <sep> <number> students at oakland elementary in mcdonough ga received backpacks from <user> and food from <user> as pa rt of a national <number> backpack giveaway <hashtag> is matching donations to <hashtag> up to <number> visit <url> <url> <sep> las vegas this is a special one tonight is my xs debut and its going to be insanity i m on at <number> see you there <url> <sep> congratulations to this year s <user> youth of the year nominees as well as this year s youth of the year winner sabrina join me in commending our leaders of tomorrow as we raise a slice of pizza in their honor <user> <hashtag> <url> <sep> rt <user> win a meet amp greet with dj diesel aka <user> pair of tickets to see him saturday <number> enter <url> <sep> what a handsome fella run with my rookie card in <user> now <url> <url> <sep> too many foster kids are scared neglected lonely amp abused i m proud to be both an executive amp presenting producer of <user> an inspiring new film that will make its worldwide premiere at <user> <user> later this week <url> <sep> since <user> made me cfo everyone has been hitting me up about cruise deals if you want to get an exclusive offer email me at shaq <user> <hashtag> <hashtag> <hashtag> oh yeah and i need that email by <number> <url> <sep> rt <user> <number> x all star <number> x nba champion <number> x finals mvp <number> x scoring champion <number> large set of turntables <url> <sep> <user> is now on twitter <url> <sep> <user> all good <hashtag> <sep> rt <user> the perfect ending to the <hashtag> anime shock are your season <number> champions <url> <sep> bam the future of coffee is here want to try it click the link below and use code shaqenergy <hashtag> <hashtag> <url> <user> <url> <sep> <hashtag> are not just someone else s kids they re our kids there is so much we can do to help them take action amp join the fight for foster kids at <url> url op ed embed link <url> <sep> thank you <user> <url> <sep> rt <user> today is all about <user> on the athletic learn how one of the biggest names in became the successful businessman he is <sep> see if my little buddy <user> can guess anyone correctly on the season premiere of <hashtag> tonight <number> p <number> c <sep> good talking pizza and hanging with <user> and <user> friends watch the full story <url> <url> <sep> looking to improve your finances <user> will pay you with income boosters from completing your first delivery on a gig platform to saving on bank fees or insurance rates my friends over at steady want to pay you check them out <url> <hashtag> <url> <sep> <user> you should join me in the moshpit <user> <hashtag> <hashtag> <hashtag> <hashtag> <hashtag> thanks imagine <url> <sep> thanks <user> i love you <user> <hashtag> <hashtag> <hashtag> <hashtag> <hashtag> <hashtag> imagine music festival <url> <sep> time is running out to submit your version of <user> jingle for a chance to see bobby bones amp the raging idiots live in vegas check out my remix and submit yours at <url> by september <number> <hashtag> <url> <sep> i want to give a special shoutout to the blind eye artist justinwadlington for blessing me with this amazing limited edition piece <user> on the camera <url> <sep> my main man aveoa rt did his thing on this <url> <sep> apotheosis of legends by justinwadlington and nipsey hustle <url> <sep> i m ready for <user> this friday in atlanta who is ready to go hard in the pit with me tickets gt gt <url> <url> <sep> atlanta who am i going to be seeing on the rail next weekend <user> <sep> rt <user> the call of duty esports league is officially coming to chicago <user> is incredibly proud to represent the windy city s very o <sep> look out while onboard a <user> ship as chief fun officer i am known to do a fun check from time to time <hashtag> <hashtag> <hashtag> <url> <sep> socal excited to announce that i m bringing <user> to <user> in <hashtag> at the end of <number> <hashtag> <url> <sep> rt <user> hot sauce radio w the one amp only <user> starts in <number> min you don t want to miss this one tune in <url> <sep> get ready for a slice of happy it s a better day <user> <hashtag> <hashtag> <url> <sep> montreal showed out for shaq s bass all stars last weekend thank you canada <user> <user> <user> <user> <url> <sep> with my friends at <user> and <user> we had shaq to school activities all over this summer helping kids and benefitting <user> see for yourself at <url> <hashtag> <hashtag> <hashtag> <hashtag> <url> <sep> electric zoo was wild <user> <url> '"
            ],
            "application/vnd.google.colaboratory.intrinsic+json": {
              "type": "string"
            }
          },
          "metadata": {},
          "execution_count": 15
        }
      ]
    },
    {
      "cell_type": "markdown",
      "source": [
        "### Tokenize Text and Convert to GloVe Embeddings"
      ],
      "metadata": {
        "id": "1qmZ3Ctzo46v"
      }
    },
    {
      "cell_type": "code",
      "source": [
        "tokenizer = get_tokenizer('basic_english')\n",
        "test = tokenizer(df.iloc[0]['tweet_clean'])\n",
        "test[0:5]"
      ],
      "metadata": {
        "id": "DPlhTcPYVFrG",
        "colab": {
          "base_uri": "https://localhost:8080/"
        },
        "outputId": "483fb8a6-3480-48e7-a7c2-cbf20e54b1d6"
      },
      "execution_count": 16,
      "outputs": [
        {
          "output_type": "execute_result",
          "data": {
            "text/plain": [
              "['rt', '<user>', 'are', 'you', 'ready']"
            ]
          },
          "metadata": {},
          "execution_count": 16
        }
      ]
    },
    {
      "cell_type": "code",
      "source": [
        "special_tokens = ['<unk>', '<sep>', '<user>', '<hashtag>', '<url>', '<number>', '<repeat>', 'rt']"
      ],
      "metadata": {
        "id": "FUqW7Dz6bWsI"
      },
      "execution_count": 17,
      "outputs": []
    },
    {
      "cell_type": "code",
      "source": [
        "def load_glove_vec(File):\n",
        "    print(\"Loading Glove Model\")\n",
        "    glove = {}\n",
        "    with open(File,'r') as f:\n",
        "        em = 0\n",
        "        for line in f:\n",
        "            split_line = line.split()\n",
        "            word = split_line[0]\n",
        "            # embedding = torch.tensor(split_line[1:], dtype=torch.float64)\n",
        "            glove[word] = em\n",
        "            em += 1\n",
        "    print(f\"{len(glove)} words loaded!\")\n",
        "    return glove"
      ],
      "metadata": {
        "id": "pcSs0wDrPlgh"
      },
      "execution_count": 18,
      "outputs": []
    },
    {
      "cell_type": "code",
      "source": [
        "glove = load_glove_vec(\"/content/glove.twitter.27B.25d.txt\")"
      ],
      "metadata": {
        "id": "77rnyPSBxjAD",
        "colab": {
          "base_uri": "https://localhost:8080/"
        },
        "outputId": "df4d23a3-d55b-42b4-dcfd-a5c4e6a9f482"
      },
      "execution_count": 19,
      "outputs": [
        {
          "output_type": "stream",
          "name": "stdout",
          "text": [
            "Loading Glove Model\n",
            "1193514 words loaded!\n"
          ]
        }
      ]
    },
    {
      "cell_type": "code",
      "source": [
        "# type(glove_vec)"
      ],
      "metadata": {
        "id": "-lnxBaP0yPQC"
      },
      "execution_count": 20,
      "outputs": []
    },
    {
      "cell_type": "code",
      "source": [
        "i = 0\n",
        "for r in glove.items():\n",
        "    print(r)\n",
        "    if i == 10:\n",
        "      break\n",
        "    else:\n",
        "      i += 1\n",
        "\n",
        "print(len(glove))"
      ],
      "metadata": {
        "id": "AFkhU9gryWTr",
        "colab": {
          "base_uri": "https://localhost:8080/"
        },
        "outputId": "e06e5a79-68f5-4c72-8d5b-e0ab8aedabfe"
      },
      "execution_count": 21,
      "outputs": [
        {
          "output_type": "stream",
          "name": "stdout",
          "text": [
            "('<user>', 0)\n",
            "('.', 1)\n",
            "(':', 2)\n",
            "('rt', 3)\n",
            "(',', 4)\n",
            "('<repeat>', 5)\n",
            "('<hashtag>', 6)\n",
            "('<number>', 7)\n",
            "('<url>', 8)\n",
            "('!', 9)\n",
            "('i', 10)\n",
            "1193514\n"
          ]
        }
      ]
    },
    {
      "cell_type": "code",
      "source": [
        "glove_vocab = vocab(glove, specials=special_tokens, special_first=True)\n",
        "glove_vocab.set_default_index(0)"
      ],
      "metadata": {
        "id": "YYjQn63bbNWd"
      },
      "execution_count": 22,
      "outputs": []
    },
    {
      "cell_type": "markdown",
      "source": [
        "Make sure the tokenizer and embeddings are working properly"
      ],
      "metadata": {
        "id": "o28vdsIZRVlP"
      }
    },
    {
      "cell_type": "code",
      "source": [
        "test_tok = tokenizer(df['tweet_clean'].iloc[0])\n",
        "test_vec = glove_vocab(test_tok)\n",
        "print(test_tok[0:50])\n",
        "print(test_vec[0:50])"
      ],
      "metadata": {
        "id": "1L9dqEuu6ezP",
        "colab": {
          "base_uri": "https://localhost:8080/"
        },
        "outputId": "aa3023d2-ff4e-4f80-f0eb-d0c0275fe4d0"
      },
      "execution_count": 23,
      "outputs": [
        {
          "output_type": "stream",
          "name": "stdout",
          "text": [
            "['rt', '<user>', 'are', 'you', 'ready', 'to', 'see', 'what', 'our', 'newest', 'ship', 's', 'name', 'will', 'be', 'thanks', 'to', 'all', 'our', 'partners', 'for', 'helping', 'us', 'unbox', 'the', 'name', '<sep>', 'who', 'has', 'time', 'for', 'receipts', 'not', 'me', '<user>', 'receipt', 'scanners', 'make', 'it', 'easy', 'no', 'mess', 'no', 'stress', 'check', 'it', 'out', 'at', '<url>', '<url>']\n",
            "[7, 2, 72, 17, 581, 18, 165, 88, 279, 10770, 4414, 139, 592, 130, 58, 271, 18, 77, 279, 14157, 39, 4818, 293, 282559, 15, 592, 1, 129, 217, 137, 39, 55282, 80, 23, 2, 45599, 162622, 185, 35, 1229, 32, 2737, 32, 2287, 527, 35, 101, 68, 4, 4]\n"
          ]
        }
      ]
    },
    {
      "cell_type": "markdown",
      "source": [
        "Create the pipeline for the data"
      ],
      "metadata": {
        "id": "9U3lUsVJRY5-"
      }
    },
    {
      "cell_type": "code",
      "source": [
        "text_pipeline = lambda x: glove_vocab(tokenizer(x))\n",
        "label_pipeline = lambda x: 1 if x == 'bot' else 0 ## Human = 0, Bot = 1"
      ],
      "metadata": {
        "id": "ZzwkciXNQeIi"
      },
      "execution_count": 42,
      "outputs": []
    },
    {
      "cell_type": "markdown",
      "source": [
        "### Load Data in as Torch Tensors"
      ],
      "metadata": {
        "id": "FFWACwuZFLBF"
      }
    },
    {
      "cell_type": "code",
      "source": [
        "MAX_SEQ_LEN = 280 * 200\n",
        "BATCH_SIZE = 8"
      ],
      "metadata": {
        "id": "0pchMFqfSQkx"
      },
      "execution_count": 25,
      "outputs": []
    },
    {
      "cell_type": "code",
      "source": [
        "# train.to_csv('/content/results' + '/train.csv', index=False)\n",
        "# valid.to_csv('/content/results' + '/valid.csv', index=False)\n",
        "# test.to_csv('/content/results' + '/test.csv', index=False)"
      ],
      "metadata": {
        "id": "5mIz4s0ARRw6"
      },
      "execution_count": 26,
      "outputs": []
    },
    {
      "cell_type": "code",
      "source": [
        "class TweetDataset(Dataset):\n",
        "    def __init__(self, df):\n",
        "        self.texts = df['tweet_clean']\n",
        "        self.labels = df['label']\n",
        "\n",
        "    def __len__(self):\n",
        "        return len(self.texts)\n",
        "\n",
        "    def __getitem__(self, idx):\n",
        "        t = self.texts.iloc[idx]\n",
        "        l = self.labels.iloc[idx]\n",
        "        return t, l"
      ],
      "metadata": {
        "id": "FYw-NBverwBA"
      },
      "execution_count": 37,
      "outputs": []
    },
    {
      "cell_type": "code",
      "source": [
        "train_ds = TweetDataset(train)\n",
        "valid_ds = TweetDataset(valid)\n",
        "test_ds = TweetDataset(test)"
      ],
      "metadata": {
        "id": "uMR7_6unLd-F"
      },
      "execution_count": 38,
      "outputs": []
    },
    {
      "cell_type": "code",
      "source": [
        "def collate_batch(batch):\n",
        "    label_list, text_list, offsets = [], [], [0]\n",
        "    for (_text, _label) in batch:\n",
        "         label_list.append(label_pipeline(_label))\n",
        "         processed_text = torch.tensor(text_pipeline(_text), dtype=torch.int64)\n",
        "         text_list.append(processed_text)\n",
        "         offsets.append(processed_text.size(0))\n",
        "    label_list = torch.tensor(label_list, dtype=torch.int64)\n",
        "    offsets = torch.tensor(offsets[:-1]).cumsum(dim=0)\n",
        "    text_list = torch.cat(text_list)\n",
        "    return label_list.to(device), text_list.to(device), offsets.to(device)"
      ],
      "metadata": {
        "id": "smhI4nxrtMOZ"
      },
      "execution_count": 47,
      "outputs": []
    },
    {
      "cell_type": "code",
      "source": [
        "train_loader = DataLoader(train_ds, batch_size=BATCH_SIZE, collate_fn=collate_batch)\n",
        "valid_loader = DataLoader(valid_ds, batch_size=BATCH_SIZE, collate_fn=collate_batch)\n",
        "test_loader = DataLoader(test_ds, batch_size=BATCH_SIZE, collate_fn=collate_batch)"
      ],
      "metadata": {
        "id": "vt4fD1M-LouE"
      },
      "execution_count": 48,
      "outputs": []
    },
    {
      "cell_type": "code",
      "source": [
        "for (i, (labels, texts, _)) in enumerate(train_loader):\n",
        "    print(\"Vec: \", texts, \" Label: \", labels)\n",
        "    if i > 10:\n",
        "      break"
      ],
      "metadata": {
        "colab": {
          "base_uri": "https://localhost:8080/"
        },
        "id": "AKVDutQwLp-U",
        "outputId": "e3ef81e6-775e-412a-8ba8-c090b79037f5"
      },
      "execution_count": 49,
      "outputs": [
        {
          "output_type": "stream",
          "name": "stdout",
          "text": [
            "Vec:  tensor([  197,    12,   184,  ...,    12,    74, 71602])  Label:  tensor([0, 0, 0, 0, 1, 0, 1, 0])\n",
            "Vec:  tensor([   7,    2,   74,  ...,    2, 2258,  295])  Label:  tensor([0, 1, 0, 1, 1, 0, 0, 0])\n",
            "Vec:  tensor([ 57, 567,  18,  ..., 599,   3,   4])  Label:  tensor([0, 0, 1, 0, 0, 0, 0, 0])\n",
            "Vec:  tensor([     4,      1,      4,  ...,   7510,  95880, 375545])  Label:  tensor([0, 0, 0, 1, 0, 0, 0, 0])\n",
            "Vec:  tensor([    7,     2, 16781,  ...,    72,    57,   210])  Label:  tensor([0, 1, 1, 0, 1, 0, 0, 0])\n",
            "Vec:  tensor([   7,    2,   57,  ...,   13, 1205, 1052])  Label:  tensor([0, 0, 0, 0, 0, 0, 0, 0])\n",
            "Vec:  tensor([   7,    2, 5129,  ...,  231,    4,    4])  Label:  tensor([0, 0, 1, 1, 0, 0, 0, 0])\n",
            "Vec:  tensor([   2, 1761,   41,  ..., 1817,  556,  271])  Label:  tensor([0, 0, 0, 0, 0, 0, 0, 0])\n",
            "Vec:  tensor([  928,    48,    13,  ...,  1592, 51494,     4])  Label:  tensor([0, 0, 1, 0, 0, 0, 0, 0])\n",
            "Vec:  tensor([  2,   2,  17,  ...,  45, 123,  35])  Label:  tensor([1, 0, 0, 0, 1, 1, 0])\n"
          ]
        }
      ]
    },
    {
      "cell_type": "markdown",
      "source": [
        "## Build Model"
      ],
      "metadata": {
        "id": "IT5dYdY57rN8"
      }
    },
    {
      "cell_type": "code",
      "source": [
        "VOCAB_SIZE = len(glove_vocab)\n",
        "EMBEDDING_DIM = 25\n",
        "HIDDEN_DIM = 128\n",
        "OUTPUT_DIM = 100"
      ],
      "metadata": {
        "id": "1Q_zUn7Z8Ux7"
      },
      "execution_count": 50,
      "outputs": []
    },
    {
      "cell_type": "code",
      "source": [
        "class BiLSTM(nn.Module):\n",
        "    def __init__(self):\n",
        "        super(BiLSTM, self).__init__()\n",
        "    \n",
        "        self.batch_size = BATCH_SIZE\n",
        "        self.embedding_dim = EMBEDDING_DIM\n",
        "        self.hidden_dim = HIDDEN_DIM\n",
        "        self.vocab_size = VOCAB_SIZE\n",
        "        self.num_layers = 3\n",
        "        self.sequence_len = 280\n",
        "\n",
        "        # Layers\n",
        "        self.embedding = nn.Embedding(self.vocab_size, self.embedding_dim)        # Embedding layer - OUT(25)\n",
        "        # Bi-LSTM\n",
        "        self.lstm = nn.LSTM(self.embedding_dim, self.hidden_dim, num_layers=self.num_layers,\n",
        "                             bidirectional=True, dropout=0.25, batch_first=True)  # LSTM layer - OUT(128)\n",
        "        self.dropout = nn.Dropout(0.25)                                           # Dropout\n",
        "        self.softmax = nn.Softmax(dim=1)                                          # softmax normalization layer\n",
        "\n",
        "    def init_hidden(self):\n",
        "      return (torch.zeros(self.num_layers, self.batch_size, self.hidden_dim),\n",
        "                torch.zeros(self.num_layers, self.batch_size, self.hidden_dim))\n",
        "\n",
        "    def forward(self, x):\n",
        "        embed = self.embedding(x)                 # Embedding the vectors\n",
        "        lstm_out, self.hidden = self.lstm(embed)  # Pass through the three layer BiLSTM\n",
        "        y_pred = self.softmax(lstm_out)           # softmax normalization\n",
        "        return y_pred"
      ],
      "metadata": {
        "id": "NCdH_3jwPSCM"
      },
      "execution_count": 111,
      "outputs": []
    },
    {
      "cell_type": "markdown",
      "source": [
        "## Train Model"
      ],
      "metadata": {
        "id": "7lKNtpqXipPB"
      }
    },
    {
      "cell_type": "markdown",
      "source": [
        "### Configure Checkpoints"
      ],
      "metadata": {
        "id": "QH3oJLPlimct"
      }
    },
    {
      "cell_type": "markdown",
      "source": [
        "### Train Method"
      ],
      "metadata": {
        "id": "UdFqshJfi6rW"
      }
    },
    {
      "cell_type": "code",
      "source": [
        "import time\n",
        "from tqdm import tqdm"
      ],
      "metadata": {
        "id": "vrGaLmQnZN0P"
      },
      "execution_count": 81,
      "outputs": []
    },
    {
      "cell_type": "code",
      "source": [
        "def train(dataloader, model, optimizer, criterion, num_epochs):\n",
        "    model.train()\n",
        "    total_acc, total_count = 0, 0\n",
        "    log_interval = 500\n",
        "    start_time = time.time()\n",
        "\n",
        "    for epoch in tqdm(range(num_epochs)):\n",
        "        epoch_start_time = time.time()\n",
        "\n",
        "        for idx, (label, text, _) in enumerate(dataloader):\n",
        "            optimizer.zero_grad()\n",
        "            predicted_label = model(text)\n",
        "            loss = criterion(predicted_label, label.squeeze())\n",
        "            loss.backward()\n",
        "            torch.nn.utils.clip_grad_norm_(model.parameters(), 0.1)\n",
        "            optimizer.step()\n",
        "            total_acc += (predicted_label.argmax(1) == label).sum().item()\n",
        "            total_count += label.size(0)\n",
        "            if idx % log_interval == 0 and idx > 0:\n",
        "                elapsed = time.time() - start_time\n",
        "                print('| epoch {:3d} | {:5d}/{:5d} batches '\n",
        "                      '| accuracy {:8.3f}'.format(epoch, idx, len(dataloader),\n",
        "                                              total_acc/total_count))\n",
        "        total_acc, total_count = 0, 0\n",
        "        start_time = time.time()"
      ],
      "metadata": {
        "id": "KSInpSQnZMjs"
      },
      "execution_count": 112,
      "outputs": []
    },
    {
      "cell_type": "code",
      "source": [
        "model = BiLSTM().to(device)\n",
        "optimizer = optim.Adam(model.parameters(), lr=0.001)\n",
        "criterion = torch.nn.NLLLoss()\n",
        "\n",
        "train(dataloader=train_loader, model=model, optimizer=optimizer, criterion=criterion, num_epochs=10)"
      ],
      "metadata": {
        "id": "7W3tUhpfjDFy",
        "colab": {
          "base_uri": "https://localhost:8080/"
        },
        "outputId": "fd327310-c4e5-4878-e655-43249eb01e73"
      },
      "execution_count": null,
      "outputs": [
        {
          "output_type": "stream",
          "name": "stderr",
          "text": [
            "\r  0%|          | 0/10 [00:00<?, ?it/s]"
          ]
        }
      ]
    },
    {
      "cell_type": "markdown",
      "source": [
        "### Plot"
      ],
      "metadata": {
        "id": "r0KpAdC9jJv5"
      }
    },
    {
      "cell_type": "code",
      "source": [
        "# train_loss_list, valid_loss_list, global_steps_list = load_metrics('/content/checkpoints' + '/metrics.pt')\n",
        "# plt.plot(global_steps_list, train_loss_list, label='Train')\n",
        "# plt.plot(global_steps_list, valid_loss_list, label='Valid')\n",
        "# plt.xlabel('Global Steps')\n",
        "# plt.ylabel('Loss')\n",
        "# plt.legend()\n",
        "# plt.show() "
      ],
      "metadata": {
        "id": "-5VQYmTrjIht"
      },
      "execution_count": null,
      "outputs": []
    }
  ]
}